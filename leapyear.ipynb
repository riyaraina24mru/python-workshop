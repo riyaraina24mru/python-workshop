{
 "cells": [
  {
   "cell_type": "code",
   "execution_count": 1,
   "metadata": {},
   "outputs": [
    {
     "name": "stdout",
     "output_type": "stream",
     "text": [
      "enter a number :2018\n",
      "2018 is not a leap year\n"
     ]
    }
   ],
   "source": [
    "year=int(input(\"enter a number :\"))\n",
    "if year%4==0 and year%100!=0:\n",
    "    print(year,\"is a leap year\")\n",
    "elif year%100==0:\n",
    "    print(year,\"is not a leap year\")\n",
    "elif year%400==0:\n",
    "    print(year,\"if a leap year\")\n",
    "else:\n",
    "    print(year,\"is not a leap year\")"
   ]
  },
  {
   "cell_type": "code",
   "execution_count": null,
   "metadata": {},
   "outputs": [],
   "source": []
  }
 ],
 "metadata": {
  "kernelspec": {
   "display_name": "Python 3",
   "language": "python",
   "name": "python3"
  },
  "language_info": {
   "codemirror_mode": {
    "name": "ipython",
    "version": 3
   },
   "file_extension": ".py",
   "mimetype": "text/x-python",
   "name": "python",
   "nbconvert_exporter": "python",
   "pygments_lexer": "ipython3",
   "version": "3.7.4"
  }
 },
 "nbformat": 4,
 "nbformat_minor": 2
}
