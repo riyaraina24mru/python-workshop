{
 "cells": [
  {
   "cell_type": "markdown",
   "metadata": {},
   "source": [
    "## LAB 09 (CLASS)"
   ]
  },
  {
   "cell_type": "code",
   "execution_count": 1,
   "metadata": {},
   "outputs": [
    {
     "name": "stdout",
     "output_type": "stream",
     "text": [
      "Triangle is created\n",
      "None\n",
      "Sides are 2 and 3\n",
      "None\n"
     ]
    }
   ],
   "source": [
    "class Triangle:\n",
    "    a=3\n",
    "    b=4\n",
    "    def create_triangle():\n",
    "        return print(\"Triangle is created\")\n",
    "        \n",
    "    def print_sides(a,b):\n",
    "        return print(\"Sides are\",a,\"and\",b)\n",
    "        \n",
    "a=2\n",
    "b=3\n",
    "print(Triangle.create_triangle())\n",
    "\n",
    "print(Triangle.print_sides(a,b))"
   ]
  },
  {
   "cell_type": "code",
   "execution_count": 2,
   "metadata": {},
   "outputs": [
    {
     "name": "stdout",
     "output_type": "stream",
     "text": [
      "Enter a stringmy name is riya\n",
      "<class 'str'>\n"
     ]
    }
   ],
   "source": [
    "class string:\n",
    "    def inputstr():\n",
    "        str=input(\"Enter a string\")\n",
    "        \n",
    "    def printstr(str):\n",
    "        return str\n",
    "    \n",
    "    \n",
    "string.inputstr()\n",
    "print(string.printstr(str))"
   ]
  },
  {
   "cell_type": "code",
   "execution_count": 3,
   "metadata": {},
   "outputs": [
    {
     "name": "stdout",
     "output_type": "stream",
     "text": [
      "Perimeter is 10\n"
     ]
    }
   ],
   "source": [
    "class Rectangle:\n",
    "    \n",
    "    def perimeter(length,breadth):\n",
    "        per=2*(length+breadth)\n",
    "        return per\n",
    "    \n",
    "print(\"Perimeter is\",Rectangle.perimeter(2,3)) "
   ]
  },
  {
   "cell_type": "code",
   "execution_count": 4,
   "metadata": {},
   "outputs": [
    {
     "name": "stdout",
     "output_type": "stream",
     "text": [
      "Area of circle is 12.56\n",
      "Perimeter of circle is 18.84\n"
     ]
    }
   ],
   "source": [
    "class Circle:\n",
    "    \n",
    "    def area(r):\n",
    "        area=3.14*r*r\n",
    "        return area\n",
    "    \n",
    "    def perimeter(r):\n",
    "        per=2*3.14*r\n",
    "        return per\n",
    "    \n",
    "    \n",
    "print(\"Area of circle is\",Circle.area(2))\n",
    "print(\"Perimeter of circle is\",Circle.perimeter(3))"
   ]
  },
  {
   "cell_type": "code",
   "execution_count": 6,
   "metadata": {},
   "outputs": [
    {
     "name": "stdout",
     "output_type": "stream",
     "text": [
      "In Class2\n"
     ]
    }
   ],
   "source": [
    "class Class1: \n",
    "    def m(self): \n",
    "        print(\"In Class1\") \n",
    "\n",
    "class Class2(Class1): \n",
    "    def m(self): \n",
    "        print(\"In Class2\") \n",
    "\n",
    "class Class3(Class1): \n",
    "    def m(self): \n",
    "        print(\"In Class3\") \n",
    "\n",
    "class Class4(Class2, Class3): \n",
    "    pass\n",
    "\n",
    "obj = Class4() \n",
    "obj.m()"
   ]
  }
 ],
 "metadata": {
  "kernelspec": {
   "display_name": "Python 3",
   "language": "python",
   "name": "python3"
  },
  "language_info": {
   "codemirror_mode": {
    "name": "ipython",
    "version": 3
   },
   "file_extension": ".py",
   "mimetype": "text/x-python",
   "name": "python",
   "nbconvert_exporter": "python",
   "pygments_lexer": "ipython3",
   "version": "3.7.4"
  }
 },
 "nbformat": 4,
 "nbformat_minor": 2
}
