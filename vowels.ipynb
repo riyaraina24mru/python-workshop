{
 "cells": [
  {
   "cell_type": "code",
   "execution_count": 2,
   "metadata": {},
   "outputs": [
    {
     "name": "stdout",
     "output_type": "stream",
     "text": [
      "please enter a character:a\n",
      "the given character a is a vowel\n"
     ]
    }
   ],
   "source": [
    "c=input(\"please enter a character:\")\n",
    "if(c==\"a\" or c==\"e\" or c==\"i\" or c==\"o\" or c==\"u\" or c==\"A\" or c==\"E\" or c==\"I\" or c==\"O\" or c==\"U\"):\n",
    "    print(\"the given character\",c,\"is a vowel\")\n",
    "else:\n",
    "    print(\"the given character\",c,\"is a consonant\")"
   ]
  },
  {
   "cell_type": "code",
   "execution_count": null,
   "metadata": {},
   "outputs": [],
   "source": []
  }
 ],
 "metadata": {
  "kernelspec": {
   "display_name": "Python 3",
   "language": "python",
   "name": "python3"
  },
  "language_info": {
   "codemirror_mode": {
    "name": "ipython",
    "version": 3
   },
   "file_extension": ".py",
   "mimetype": "text/x-python",
   "name": "python",
   "nbconvert_exporter": "python",
   "pygments_lexer": "ipython3",
   "version": "3.7.4"
  }
 },
 "nbformat": 4,
 "nbformat_minor": 2
}
