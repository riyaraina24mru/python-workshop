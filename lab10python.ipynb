{
 "cells": [
  {
   "cell_type": "code",
   "execution_count": 14,
   "metadata": {},
   "outputs": [
    {
     "name": "stdout",
     "output_type": "stream",
     "text": [
      "Animals have four legs\n",
      "Animals have four legs\n"
     ]
    }
   ],
   "source": [
    "class animal:\n",
    "     def legs(self):\n",
    "         print(\"Animals have four legs\")\n",
    "\n",
    "class tiger(animal):\n",
    "     pass\n",
    "\n",
    "class dog(animal):\n",
    "     animal().legs()\n",
    "\n",
    "tiger().legs()"
   ]
  },
  {
   "cell_type": "code",
   "execution_count": 19,
   "metadata": {},
   "outputs": [
    {
     "name": "stdout",
     "output_type": "stream",
     "text": [
      "I'm a employee\n",
      "None\n",
      "I'm a Manager\n",
      "None\n",
      "I'm a Engineer\n",
      "None\n"
     ]
    }
   ],
   "source": [
    "class Employee():\n",
    "     name = \"employee\"\n",
    "     def printdesignation(self):\n",
    "         print(\"I'm a\",self.name)\n",
    "\n",
    "class Engineer():\n",
    "     name = \"Engineer\"\n",
    "\n",
    "     def printdesignation(self):\n",
    "         print(\"I'm a\",self.name)\n",
    "\n",
    "class Manager():\n",
    "     name = \"Manager\"\n",
    "\n",
    "     def printdesignation(self):\n",
    "         print(\"I'm a\",self.name)\n",
    "\n",
    "com_1 = Employee()\n",
    "print(com_1.printdesignation())\n",
    "\n",
    "com_2 =Manager()\n",
    "print(com_2.printdesignation())\n",
    "\n",
    "com_3 = Engineer()\n",
    "print(com_3.printdesignation())"
   ]
  },
  {
   "cell_type": "code",
   "execution_count": 60,
   "metadata": {},
   "outputs": [
    {
     "name": "stdout",
     "output_type": "stream",
     "text": [
      "10\n",
      "<function MyClass.func at 0x0000022BFC0D1E58>\n"
     ]
    }
   ],
   "source": [
    "class MyClass:\n",
    "    \"This is my second class\"\n",
    "    a = 10\n",
    "    def func(self):\n",
    "        print('Hello')\n",
    "print(MyClass.a)\n",
    "print(MyClass.func)"
   ]
  },
  {
   "cell_type": "code",
   "execution_count": 44,
   "metadata": {},
   "outputs": [
    {
     "name": "stdout",
     "output_type": "stream",
     "text": [
      " child statment \n",
      "Parent 2 statment \n"
     ]
    }
   ],
   "source": [
    "class Parent1():\n",
    "\n",
    "     def show(self):\n",
    "         print(\"Parent 1 statement \")\n",
    "\n",
    "class Parent2():\n",
    "\n",
    "     def display(self):\n",
    "         print(\"Parent 2 statment \")\n",
    "\n",
    "class Child(Parent1, Parent2):\n",
    "\n",
    "     def show(self):\n",
    "         print(\" child statment \")\n",
    "\n",
    "\n",
    "obj = Child()\n",
    "\n",
    "obj.show()\n",
    "obj.display()"
   ]
  },
  {
   "cell_type": "code",
   "execution_count": 45,
   "metadata": {},
   "outputs": [
    {
     "name": "stdout",
     "output_type": "stream",
     "text": [
      "In Class4\n",
      "In Class2\n",
      "In Class3\n",
      "In Class1\n"
     ]
    }
   ],
   "source": [
    "class Class1: \n",
    "    def m(self): \n",
    "        print(\"In Class1\")  \n",
    "        \n",
    "class Class2(Class1): \n",
    "    def m(self): \n",
    "        print(\"In Class2\") \n",
    "class Class3(Class1): \n",
    "    def m(self): \n",
    "         print(\"In Class3\")      \n",
    "class Class4(Class2, Class3): \n",
    "    def m(self): \n",
    "        print(\"In Class4\")    \n",
    "obj = Class4() \n",
    "obj.m() \n",
    "Class2.m(obj) \n",
    "Class3.m(obj) \n",
    "Class1.m(obj)"
   ]
  },
  {
   "cell_type": "code",
   "execution_count": null,
   "metadata": {},
   "outputs": [],
   "source": []
  }
 ],
 "metadata": {
  "kernelspec": {
   "display_name": "Python 3",
   "language": "python",
   "name": "python3"
  },
  "language_info": {
   "codemirror_mode": {
    "name": "ipython",
    "version": 3
   },
   "file_extension": ".py",
   "mimetype": "text/x-python",
   "name": "python",
   "nbconvert_exporter": "python",
   "pygments_lexer": "ipython3",
   "version": "3.7.4"
  }
 },
 "nbformat": 4,
 "nbformat_minor": 2
}
