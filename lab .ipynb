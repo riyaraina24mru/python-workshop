{
 "cells": [
  {
   "cell_type": "code",
   "execution_count": 1,
   "metadata": {},
   "outputs": [
    {
     "name": "stdout",
     "output_type": "stream",
     "text": [
      "1\n",
      "2\n",
      "3\n",
      "4\n"
     ]
    }
   ],
   "source": [
    "l=[1,2,3,4]\n",
    "for i in range(0,len(l)):\n",
    "    print(l[i])"
   ]
  },
  {
   "cell_type": "code",
   "execution_count": 2,
   "metadata": {},
   "outputs": [
    {
     "name": "stdout",
     "output_type": "stream",
     "text": [
      "84\n",
      "168\n",
      "252\n"
     ]
    }
   ],
   "source": [
    "l=[14,28,42,56,70,84,98,112,126,140,154,168,182,196,210,224,238,252,266,280]\n",
    "for i in range(0,len(l)):\n",
    "    if l[i]%12==0:\n",
    "        print(l[i])"
   ]
  },
  {
   "cell_type": "code",
   "execution_count": 3,
   "metadata": {},
   "outputs": [
    {
     "name": "stdout",
     "output_type": "stream",
     "text": [
      "[1, 5, 3, 7, 9]\n",
      "5\n",
      "Sorted array is:\n",
      "1\n",
      "3\n",
      "3\n",
      "7\n",
      "9\n"
     ]
    }
   ],
   "source": [
    "a=(1,5,3,7,9)\n",
    "b=list(a)\n",
    "print(b)\n",
    "n = len(b)\n",
    "print(n)\n",
    "for i in range(n):\n",
    "     for j in range (0, n-i-1):\n",
    "             if b[j] > b[j+1] :\n",
    "                b[j] = b[j+1]\n",
    "                b[j+1]=b[j]\n",
    "print (\"Sorted array is:\")\n",
    "for i in range(len(b)):\n",
    "    print ( b[i])         "
   ]
  },
  {
   "cell_type": "code",
   "execution_count": 4,
   "metadata": {},
   "outputs": [
    {
     "name": "stdout",
     "output_type": "stream",
     "text": [
      "[1, 'sa', 1.5]\n"
     ]
    }
   ],
   "source": [
    "l=[1,\"sa\",1.5]\n",
    "print(l)"
   ]
  },
  {
   "cell_type": "code",
   "execution_count": null,
   "metadata": {},
   "outputs": [],
   "source": []
  }
 ],
 "metadata": {
  "kernelspec": {
   "display_name": "Python 3",
   "language": "python",
   "name": "python3"
  },
  "language_info": {
   "codemirror_mode": {
    "name": "ipython",
    "version": 3
   },
   "file_extension": ".py",
   "mimetype": "text/x-python",
   "name": "python",
   "nbconvert_exporter": "python",
   "pygments_lexer": "ipython3",
   "version": "3.7.4"
  }
 },
 "nbformat": 4,
 "nbformat_minor": 2
}
