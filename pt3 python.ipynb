{
 "cells": [
  {
   "cell_type": "markdown",
   "metadata": {},
   "source": [
    "## PT3 PYTHON WORKSHOP RIYA 2K18CSUN01078 CLASS 4C"
   ]
  },
  {
   "cell_type": "markdown",
   "metadata": {},
   "source": [
    "## viva que\n",
    "\n",
    "## ANS 1\n",
    "## we can call using super() Command for ex:  super().__init__()\n",
    "\n",
    "## ANS 2\n",
    "## class child(parent) \n",
    "## class DerivedClassName(BaseClassName):\n",
    "## pass\n",
    "\n",
    "## ANS 3\n",
    "## people = {1: {'name': 'John', 'age': '27', 'sex': 'Male'},\n",
    "## 2: {'name': 'Marie', 'age': '22', 'sex': 'Female'}}\n",
    "## print(people)"
   ]
  },
  {
   "cell_type": "code",
   "execution_count": 3,
   "metadata": {},
   "outputs": [
    {
     "name": "stdout",
     "output_type": "stream",
     "text": [
      "Type in: my name is riya riya\n",
      "is my name riya\n"
     ]
    }
   ],
   "source": [
    "phrase = input(\"Type in: \")\n",
    "phrase_splited = phrase.split(' ')\n",
    "\n",
    "word_list = []\n",
    "for i in phrase_splited:\n",
    "    if i not in word_list:\n",
    "        word_list.append(i)\n",
    "    else:\n",
    "        continue\n",
    "word_list.sort()\n",
    "print((' ').join(word_list))"
   ]
  },
  {
   "cell_type": "code",
   "execution_count": 14,
   "metadata": {},
   "outputs": [
    {
     "name": "stdout",
     "output_type": "stream",
     "text": [
      "[12, 24, 35, 24, 88, 120, 155]\n",
      "[5, 77, 45]\n",
      "[12, 35, 70, 88, 155]\n"
     ]
    }
   ],
   "source": [
    "lists = [12,24,35,24,88,120,155]\n",
    "print(lists)\n",
    "\n",
    "#write a program to print the list after removing delete even numbers in [5,6,77,45,22,12,24].\n",
    "\n",
    "lst = [5,6,77,45,22,12,24]\n",
    "lst = [x for x in lst if x%2!=0]\n",
    "print(lst)\n",
    "\n",
    "#program to print the list after removing delete numbers which are divisible by 5 and 7 in [12,24,35,70,88,120,155].\n",
    "\n",
    "lst = [12,24,35,70,88,120,155]\n",
    "lst = [x for x in lst if x%24!=0]\n",
    "print(lst)"
   ]
  },
  {
   "cell_type": "code",
   "execution_count": null,
   "metadata": {},
   "outputs": [],
   "source": []
  }
 ],
 "metadata": {
  "kernelspec": {
   "display_name": "Python 3",
   "language": "python",
   "name": "python3"
  },
  "language_info": {
   "codemirror_mode": {
    "name": "ipython",
    "version": 3
   },
   "file_extension": ".py",
   "mimetype": "text/x-python",
   "name": "python",
   "nbconvert_exporter": "python",
   "pygments_lexer": "ipython3",
   "version": "3.7.4"
  }
 },
 "nbformat": 4,
 "nbformat_minor": 2
}
