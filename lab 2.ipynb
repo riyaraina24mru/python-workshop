{
 "cells": [
  {
   "cell_type": "markdown",
   "metadata": {},
   "source": [
    "## lab 2"
   ]
  },
  {
   "cell_type": "code",
   "execution_count": 1,
   "metadata": {},
   "outputs": [
    {
     "name": "stdout",
     "output_type": "stream",
     "text": [
      "enter a no\n",
      "13\n",
      "odd no\n"
     ]
    }
   ],
   "source": [
    "num=int(input(\"enter a no\\n\"))\n",
    "if num%2==0:\n",
    "    print(\"even number\")\n",
    "else:\n",
    "    print(\"odd no\")"
   ]
  },
  {
   "cell_type": "code",
   "execution_count": 2,
   "metadata": {},
   "outputs": [
    {
     "name": "stdout",
     "output_type": "stream",
     "text": [
      "enter a number\n",
      "24\n",
      "year is leap year\n"
     ]
    }
   ],
   "source": [
    "num=int(input(\"enter a number\\n\"))\n",
    "if num%4==0:\n",
    "    print(\"year is leap year\")\n",
    "else:\n",
    "    print(\"year is not leap year\")"
   ]
  },
  {
   "cell_type": "code",
   "execution_count": 3,
   "metadata": {},
   "outputs": [
    {
     "name": "stdout",
     "output_type": "stream",
     "text": [
      "enter a charactermy name is riya\n",
      "character is consonent\n"
     ]
    }
   ],
   "source": [
    "num=input(\"enter a character\")\n",
    "if num=='a'or num=='e'or num=='i'or num=='o'or num=='u'or num=='A'or num=='E'or num=='I'or num=='O'or num=='U':\n",
    "    print(\"character is a vowel\")\n",
    "else:\n",
    "    print(\"character is consonent\")"
   ]
  },
  {
   "cell_type": "code",
   "execution_count": 4,
   "metadata": {},
   "outputs": [
    {
     "name": "stdout",
     "output_type": "stream",
     "text": [
      "enter first no12\n",
      "enter the second no21\n",
      "smaller no 12\n"
     ]
    }
   ],
   "source": [
    "num1=int(input(\"enter first no\"))\n",
    "num2=int(input(\"enter the second no\"))\n",
    "if num1>num2:\n",
    "    print(\"smaller no\",num2)\n",
    "else:\n",
    "    print(\"smaller no\",num1)"
   ]
  },
  {
   "cell_type": "code",
   "execution_count": 5,
   "metadata": {},
   "outputs": [
    {
     "name": "stdout",
     "output_type": "stream",
     "text": [
      "enter a no13\n",
      "factorial of  is 6227020800\n"
     ]
    }
   ],
   "source": [
    "num=int(input(\"enter a no\"))\n",
    "factorial=1\n",
    "if num<0:\n",
    "    print(\"invalid no\")\n",
    "if num==0:\n",
    "    print(\"factorial is 1\")\n",
    "else:\n",
    "    for i in range(1,num +1):\n",
    "        factorial=factorial*i\n",
    "    print(\"factorial of  is\", factorial)"
   ]
  },
  {
   "cell_type": "code",
   "execution_count": 6,
   "metadata": {},
   "outputs": [
    {
     "name": "stdout",
     "output_type": "stream",
     "text": [
      "   * \n",
      "  * * \n",
      " * * * \n",
      "* * * * \n"
     ]
    }
   ],
   "source": [
    "for i in range(0,4):\n",
    "    for s in range(0,4-i-1):\n",
    "        print(end=\" \")\n",
    "    for j in range(0,i+1):\n",
    "        print(\"*\",end=\" \")\n",
    "    print()    "
   ]
  },
  {
   "cell_type": "code",
   "execution_count": 7,
   "metadata": {},
   "outputs": [
    {
     "name": "stdout",
     "output_type": "stream",
     "text": [
      "0\n",
      "1\n",
      "1\n",
      "2\n",
      "3\n",
      "5\n",
      "8\n",
      "13\n"
     ]
    }
   ],
   "source": [
    "num1=0\n",
    "num2=1\n",
    "sum=0\n",
    "while sum<=13:\n",
    "    print(sum)\n",
    "    num1=num2\n",
    "    num2=sum\n",
    "    sum=num1+num2"
   ]
  },
  {
   "cell_type": "code",
   "execution_count": 8,
   "metadata": {},
   "outputs": [
    {
     "name": "stdout",
     "output_type": "stream",
     "text": [
      "enter a no23\n",
      "23 is not prime\n"
     ]
    }
   ],
   "source": [
    "num=int(input(\"enter a no\"))\n",
    "for i in range(1,num):\n",
    "    if(num%i==0):\n",
    "        print(num,\"is not prime\")\n",
    "        break\n",
    "        \n",
    "else:\n",
    "    print(num,\"is prime\")"
   ]
  },
  {
   "cell_type": "code",
   "execution_count": 9,
   "metadata": {},
   "outputs": [
    {
     "name": "stdout",
     "output_type": "stream",
     "text": [
      "1 for sum\n",
      "2 for subtract\n",
      "3 for divide\n",
      "4 for multiply\n",
      "enter the first no13\n",
      "enter the second no24\n",
      "enter the choice1\n",
      "37\n",
      "enter correct operation\n"
     ]
    }
   ],
   "source": [
    "print(\"1 for sum\")\n",
    "print(\"2 for subtract\")\n",
    "print(\"3 for divide\")\n",
    "print(\"4 for multiply\")\n",
    "num1=int(input(\"enter the first no\"))\n",
    "num2=int(input(\"enter the second no\"))\n",
    "num3=int(input(\"enter the choice\"))\n",
    "if num3==1:\n",
    "    sum=num1+num2\n",
    "    print(sum)\n",
    "if num3==2:\n",
    "    sub=num1-num2\n",
    "    print(sub)\n",
    "if num3==3:\n",
    "    div=num1/num2\n",
    "    print(div)\n",
    "if num3==4:\n",
    "    mul=num1*num2\n",
    "    print(mul)\n",
    "else:\n",
    "    print(\"enter correct operation\")"
   ]
  },
  {
   "cell_type": "code",
   "execution_count": null,
   "metadata": {},
   "outputs": [],
   "source": []
  }
 ],
 "metadata": {
  "kernelspec": {
   "display_name": "Python 3",
   "language": "python",
   "name": "python3"
  },
  "language_info": {
   "codemirror_mode": {
    "name": "ipython",
    "version": 3
   },
   "file_extension": ".py",
   "mimetype": "text/x-python",
   "name": "python",
   "nbconvert_exporter": "python",
   "pygments_lexer": "ipython3",
   "version": "3.7.4"
  }
 },
 "nbformat": 4,
 "nbformat_minor": 2
}
